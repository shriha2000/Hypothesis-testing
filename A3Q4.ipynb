{
 "cells": [
  {
   "cell_type": "code",
   "execution_count": 1,
   "id": "d4d1641c",
   "metadata": {
    "ExecuteTime": {
     "end_time": "2022-12-06T12:28:55.206524Z",
     "start_time": "2022-12-06T12:28:51.392407Z"
    }
   },
   "outputs": [],
   "source": [
    "import scipy.stats as stats\n",
    "import pandas as pd\n",
    "import numpy as np\n",
    "import statsmodels.api as sm\n",
    "import matplotlib.pyplot as plt\n",
    "import seaborn as sns"
   ]
  },
  {
   "cell_type": "code",
   "execution_count": 4,
   "id": "f8a3d3fe",
   "metadata": {
    "ExecuteTime": {
     "end_time": "2022-12-06T12:31:44.653076Z",
     "start_time": "2022-12-06T12:31:44.522530Z"
    }
   },
   "outputs": [],
   "source": [
    "Costomer=pd.read_csv('Costomer+OrderForm.csv')"
   ]
  },
  {
   "cell_type": "raw",
   "id": "3457a544",
   "metadata": {},
   "source": [
    "Costomer"
   ]
  },
  {
   "cell_type": "code",
   "execution_count": 5,
   "id": "c3175c7a",
   "metadata": {
    "ExecuteTime": {
     "end_time": "2022-12-06T12:32:27.441667Z",
     "start_time": "2022-12-06T12:32:27.405670Z"
    }
   },
   "outputs": [
    {
     "data": {
      "text/html": [
       "<div>\n",
       "<style scoped>\n",
       "    .dataframe tbody tr th:only-of-type {\n",
       "        vertical-align: middle;\n",
       "    }\n",
       "\n",
       "    .dataframe tbody tr th {\n",
       "        vertical-align: top;\n",
       "    }\n",
       "\n",
       "    .dataframe thead th {\n",
       "        text-align: right;\n",
       "    }\n",
       "</style>\n",
       "<table border=\"1\" class=\"dataframe\">\n",
       "  <thead>\n",
       "    <tr style=\"text-align: right;\">\n",
       "      <th></th>\n",
       "      <th>Phillippines</th>\n",
       "      <th>Indonesia</th>\n",
       "      <th>Malta</th>\n",
       "      <th>India</th>\n",
       "    </tr>\n",
       "  </thead>\n",
       "  <tbody>\n",
       "    <tr>\n",
       "      <th>0</th>\n",
       "      <td>Error Free</td>\n",
       "      <td>Error Free</td>\n",
       "      <td>Defective</td>\n",
       "      <td>Error Free</td>\n",
       "    </tr>\n",
       "    <tr>\n",
       "      <th>1</th>\n",
       "      <td>Error Free</td>\n",
       "      <td>Error Free</td>\n",
       "      <td>Error Free</td>\n",
       "      <td>Defective</td>\n",
       "    </tr>\n",
       "    <tr>\n",
       "      <th>2</th>\n",
       "      <td>Error Free</td>\n",
       "      <td>Defective</td>\n",
       "      <td>Defective</td>\n",
       "      <td>Error Free</td>\n",
       "    </tr>\n",
       "    <tr>\n",
       "      <th>3</th>\n",
       "      <td>Error Free</td>\n",
       "      <td>Error Free</td>\n",
       "      <td>Error Free</td>\n",
       "      <td>Error Free</td>\n",
       "    </tr>\n",
       "    <tr>\n",
       "      <th>4</th>\n",
       "      <td>Error Free</td>\n",
       "      <td>Error Free</td>\n",
       "      <td>Defective</td>\n",
       "      <td>Error Free</td>\n",
       "    </tr>\n",
       "    <tr>\n",
       "      <th>...</th>\n",
       "      <td>...</td>\n",
       "      <td>...</td>\n",
       "      <td>...</td>\n",
       "      <td>...</td>\n",
       "    </tr>\n",
       "    <tr>\n",
       "      <th>295</th>\n",
       "      <td>Error Free</td>\n",
       "      <td>Error Free</td>\n",
       "      <td>Error Free</td>\n",
       "      <td>Error Free</td>\n",
       "    </tr>\n",
       "    <tr>\n",
       "      <th>296</th>\n",
       "      <td>Error Free</td>\n",
       "      <td>Error Free</td>\n",
       "      <td>Error Free</td>\n",
       "      <td>Error Free</td>\n",
       "    </tr>\n",
       "    <tr>\n",
       "      <th>297</th>\n",
       "      <td>Error Free</td>\n",
       "      <td>Error Free</td>\n",
       "      <td>Defective</td>\n",
       "      <td>Error Free</td>\n",
       "    </tr>\n",
       "    <tr>\n",
       "      <th>298</th>\n",
       "      <td>Error Free</td>\n",
       "      <td>Error Free</td>\n",
       "      <td>Error Free</td>\n",
       "      <td>Error Free</td>\n",
       "    </tr>\n",
       "    <tr>\n",
       "      <th>299</th>\n",
       "      <td>Error Free</td>\n",
       "      <td>Defective</td>\n",
       "      <td>Defective</td>\n",
       "      <td>Error Free</td>\n",
       "    </tr>\n",
       "  </tbody>\n",
       "</table>\n",
       "<p>300 rows × 4 columns</p>\n",
       "</div>"
      ],
      "text/plain": [
       "    Phillippines   Indonesia       Malta       India\n",
       "0     Error Free  Error Free   Defective  Error Free\n",
       "1     Error Free  Error Free  Error Free   Defective\n",
       "2     Error Free   Defective   Defective  Error Free\n",
       "3     Error Free  Error Free  Error Free  Error Free\n",
       "4     Error Free  Error Free   Defective  Error Free\n",
       "..           ...         ...         ...         ...\n",
       "295   Error Free  Error Free  Error Free  Error Free\n",
       "296   Error Free  Error Free  Error Free  Error Free\n",
       "297   Error Free  Error Free   Defective  Error Free\n",
       "298   Error Free  Error Free  Error Free  Error Free\n",
       "299   Error Free   Defective   Defective  Error Free\n",
       "\n",
       "[300 rows x 4 columns]"
      ]
     },
     "execution_count": 5,
     "metadata": {},
     "output_type": "execute_result"
    }
   ],
   "source": [
    "Costomer"
   ]
  },
  {
   "cell_type": "code",
   "execution_count": 6,
   "id": "c080ffa7",
   "metadata": {
    "ExecuteTime": {
     "end_time": "2022-12-06T12:33:15.249121Z",
     "start_time": "2022-12-06T12:33:15.237127Z"
    }
   },
   "outputs": [
    {
     "data": {
      "text/plain": [
       "Phillippines    0\n",
       "Indonesia       0\n",
       "Malta           0\n",
       "India           0\n",
       "dtype: int64"
      ]
     },
     "execution_count": 6,
     "metadata": {},
     "output_type": "execute_result"
    }
   ],
   "source": [
    "Costomer.isnull().sum()"
   ]
  },
  {
   "cell_type": "code",
   "execution_count": 10,
   "id": "e3457077",
   "metadata": {
    "ExecuteTime": {
     "end_time": "2022-12-06T12:34:17.772649Z",
     "start_time": "2022-12-06T12:34:17.737555Z"
    }
   },
   "outputs": [
    {
     "data": {
      "text/plain": [
       "(290, 4)"
      ]
     },
     "execution_count": 10,
     "metadata": {},
     "output_type": "execute_result"
    }
   ],
   "source": [
    "Costomer[Costomer.duplicated()].shape"
   ]
  },
  {
   "cell_type": "code",
   "execution_count": 11,
   "id": "57c38e83",
   "metadata": {
    "ExecuteTime": {
     "end_time": "2022-12-06T12:56:17.590970Z",
     "start_time": "2022-12-06T12:56:17.544018Z"
    }
   },
   "outputs": [
    {
     "data": {
      "text/html": [
       "<div>\n",
       "<style scoped>\n",
       "    .dataframe tbody tr th:only-of-type {\n",
       "        vertical-align: middle;\n",
       "    }\n",
       "\n",
       "    .dataframe tbody tr th {\n",
       "        vertical-align: top;\n",
       "    }\n",
       "\n",
       "    .dataframe thead th {\n",
       "        text-align: right;\n",
       "    }\n",
       "</style>\n",
       "<table border=\"1\" class=\"dataframe\">\n",
       "  <thead>\n",
       "    <tr style=\"text-align: right;\">\n",
       "      <th></th>\n",
       "      <th>Phillippines</th>\n",
       "      <th>Indonesia</th>\n",
       "      <th>Malta</th>\n",
       "      <th>India</th>\n",
       "    </tr>\n",
       "  </thead>\n",
       "  <tbody>\n",
       "  </tbody>\n",
       "</table>\n",
       "</div>"
      ],
      "text/plain": [
       "Empty DataFrame\n",
       "Columns: [Phillippines, Indonesia, Malta, India]\n",
       "Index: []"
      ]
     },
     "execution_count": 11,
     "metadata": {},
     "output_type": "execute_result"
    }
   ],
   "source": [
    "Costomer[Costomer.isnull().any(axis=1)]"
   ]
  },
  {
   "cell_type": "code",
   "execution_count": 12,
   "id": "1d23c7e1",
   "metadata": {
    "ExecuteTime": {
     "end_time": "2022-12-06T12:57:04.192896Z",
     "start_time": "2022-12-06T12:57:04.154940Z"
    }
   },
   "outputs": [
    {
     "data": {
      "text/plain": [
       "Error Free    271\n",
       "Defective      29\n",
       "Name: Phillippines, dtype: int64"
      ]
     },
     "execution_count": 12,
     "metadata": {},
     "output_type": "execute_result"
    }
   ],
   "source": [
    "Costomer.Phillippines.value_counts()"
   ]
  },
  {
   "cell_type": "code",
   "execution_count": 13,
   "id": "e158cd0d",
   "metadata": {
    "ExecuteTime": {
     "end_time": "2022-12-06T12:57:52.129390Z",
     "start_time": "2022-12-06T12:57:52.103406Z"
    }
   },
   "outputs": [
    {
     "data": {
      "text/plain": [
       "Error Free    267\n",
       "Defective      33\n",
       "Name: Indonesia, dtype: int64"
      ]
     },
     "execution_count": 13,
     "metadata": {},
     "output_type": "execute_result"
    }
   ],
   "source": [
    "Costomer.Indonesia.value_counts()"
   ]
  },
  {
   "cell_type": "code",
   "execution_count": 14,
   "id": "82025eb6",
   "metadata": {
    "ExecuteTime": {
     "end_time": "2022-12-06T12:58:11.631462Z",
     "start_time": "2022-12-06T12:58:11.616454Z"
    }
   },
   "outputs": [
    {
     "data": {
      "text/plain": [
       "Error Free    280\n",
       "Defective      20\n",
       "Name: India, dtype: int64"
      ]
     },
     "execution_count": 14,
     "metadata": {},
     "output_type": "execute_result"
    }
   ],
   "source": [
    "Costomer.India.value_counts()"
   ]
  },
  {
   "cell_type": "code",
   "execution_count": 15,
   "id": "4dda743e",
   "metadata": {
    "ExecuteTime": {
     "end_time": "2022-12-06T12:58:31.786471Z",
     "start_time": "2022-12-06T12:58:31.769483Z"
    }
   },
   "outputs": [
    {
     "data": {
      "text/plain": [
       "Error Free    269\n",
       "Defective      31\n",
       "Name: Malta, dtype: int64"
      ]
     },
     "execution_count": 15,
     "metadata": {},
     "output_type": "execute_result"
    }
   ],
   "source": [
    "Costomer.Malta.value_counts()"
   ]
  },
  {
   "cell_type": "code",
   "execution_count": 16,
   "id": "eb5e1008",
   "metadata": {
    "ExecuteTime": {
     "end_time": "2022-12-06T13:01:44.689886Z",
     "start_time": "2022-12-06T13:01:44.672874Z"
    }
   },
   "outputs": [
    {
     "data": {
      "text/plain": [
       "array([[271, 267, 280, 269],\n",
       "       [ 29,  33,  20,  31]])"
      ]
     },
     "execution_count": 16,
     "metadata": {},
     "output_type": "execute_result"
    }
   ],
   "source": [
    "obs=np.array([[271,267,280,269],[29,33,20,31]])\n",
    "obs"
   ]
  },
  {
   "cell_type": "code",
   "execution_count": 18,
   "id": "78086da0",
   "metadata": {
    "ExecuteTime": {
     "end_time": "2022-12-06T13:03:23.136466Z",
     "start_time": "2022-12-06T13:03:22.791736Z"
    }
   },
   "outputs": [
    {
     "data": {
      "text/html": [
       "<div>\n",
       "<style scoped>\n",
       "    .dataframe tbody tr th:only-of-type {\n",
       "        vertical-align: middle;\n",
       "    }\n",
       "\n",
       "    .dataframe tbody tr th {\n",
       "        vertical-align: top;\n",
       "    }\n",
       "\n",
       "    .dataframe thead th {\n",
       "        text-align: right;\n",
       "    }\n",
       "</style>\n",
       "<table border=\"1\" class=\"dataframe\">\n",
       "  <thead>\n",
       "    <tr style=\"text-align: right;\">\n",
       "      <th>Indonesia</th>\n",
       "      <th>Defective</th>\n",
       "      <th>Error Free</th>\n",
       "    </tr>\n",
       "    <tr>\n",
       "      <th>Phillippines</th>\n",
       "      <th></th>\n",
       "      <th></th>\n",
       "    </tr>\n",
       "  </thead>\n",
       "  <tbody>\n",
       "    <tr>\n",
       "      <th>Defective</th>\n",
       "      <td>2</td>\n",
       "      <td>27</td>\n",
       "    </tr>\n",
       "    <tr>\n",
       "      <th>Error Free</th>\n",
       "      <td>31</td>\n",
       "      <td>240</td>\n",
       "    </tr>\n",
       "  </tbody>\n",
       "</table>\n",
       "</div>"
      ],
      "text/plain": [
       "Indonesia     Defective  Error Free\n",
       "Phillippines                       \n",
       "Defective             2          27\n",
       "Error Free           31         240"
      ]
     },
     "execution_count": 18,
     "metadata": {},
     "output_type": "execute_result"
    }
   ],
   "source": [
    "count=pd.crosstab(Costomer['Phillippines'],Costomer['Indonesia'])\n",
    "count"
   ]
  },
  {
   "cell_type": "code",
   "execution_count": 19,
   "id": "30d0837c",
   "metadata": {
    "ExecuteTime": {
     "end_time": "2022-12-06T13:04:07.798334Z",
     "start_time": "2022-12-06T13:04:07.758381Z"
    }
   },
   "outputs": [
    {
     "data": {
      "text/html": [
       "<div>\n",
       "<style scoped>\n",
       "    .dataframe tbody tr th:only-of-type {\n",
       "        vertical-align: middle;\n",
       "    }\n",
       "\n",
       "    .dataframe tbody tr th {\n",
       "        vertical-align: top;\n",
       "    }\n",
       "\n",
       "    .dataframe thead th {\n",
       "        text-align: right;\n",
       "    }\n",
       "</style>\n",
       "<table border=\"1\" class=\"dataframe\">\n",
       "  <thead>\n",
       "    <tr style=\"text-align: right;\">\n",
       "      <th>India</th>\n",
       "      <th>Defective</th>\n",
       "      <th>Error Free</th>\n",
       "    </tr>\n",
       "    <tr>\n",
       "      <th>Phillippines</th>\n",
       "      <th></th>\n",
       "      <th></th>\n",
       "    </tr>\n",
       "  </thead>\n",
       "  <tbody>\n",
       "    <tr>\n",
       "      <th>Defective</th>\n",
       "      <td>2</td>\n",
       "      <td>27</td>\n",
       "    </tr>\n",
       "    <tr>\n",
       "      <th>Error Free</th>\n",
       "      <td>18</td>\n",
       "      <td>253</td>\n",
       "    </tr>\n",
       "  </tbody>\n",
       "</table>\n",
       "</div>"
      ],
      "text/plain": [
       "India         Defective  Error Free\n",
       "Phillippines                       \n",
       "Defective             2          27\n",
       "Error Free           18         253"
      ]
     },
     "execution_count": 19,
     "metadata": {},
     "output_type": "execute_result"
    }
   ],
   "source": [
    "count=pd.crosstab(Costomer['Phillippines'],Costomer['India'])\n",
    "count"
   ]
  },
  {
   "cell_type": "code",
   "execution_count": 20,
   "id": "9fc54a1e",
   "metadata": {
    "ExecuteTime": {
     "end_time": "2022-12-06T13:04:39.121707Z",
     "start_time": "2022-12-06T13:04:39.099738Z"
    }
   },
   "outputs": [],
   "source": [
    "count=pd.crosstab(Costomer['Phillippines'],Costomer['Malta'])"
   ]
  },
  {
   "cell_type": "code",
   "execution_count": 21,
   "id": "abb6b227",
   "metadata": {
    "ExecuteTime": {
     "end_time": "2022-12-06T13:04:42.607748Z",
     "start_time": "2022-12-06T13:04:42.593737Z"
    }
   },
   "outputs": [
    {
     "data": {
      "text/html": [
       "<div>\n",
       "<style scoped>\n",
       "    .dataframe tbody tr th:only-of-type {\n",
       "        vertical-align: middle;\n",
       "    }\n",
       "\n",
       "    .dataframe tbody tr th {\n",
       "        vertical-align: top;\n",
       "    }\n",
       "\n",
       "    .dataframe thead th {\n",
       "        text-align: right;\n",
       "    }\n",
       "</style>\n",
       "<table border=\"1\" class=\"dataframe\">\n",
       "  <thead>\n",
       "    <tr style=\"text-align: right;\">\n",
       "      <th>Malta</th>\n",
       "      <th>Defective</th>\n",
       "      <th>Error Free</th>\n",
       "    </tr>\n",
       "    <tr>\n",
       "      <th>Phillippines</th>\n",
       "      <th></th>\n",
       "      <th></th>\n",
       "    </tr>\n",
       "  </thead>\n",
       "  <tbody>\n",
       "    <tr>\n",
       "      <th>Defective</th>\n",
       "      <td>4</td>\n",
       "      <td>25</td>\n",
       "    </tr>\n",
       "    <tr>\n",
       "      <th>Error Free</th>\n",
       "      <td>27</td>\n",
       "      <td>244</td>\n",
       "    </tr>\n",
       "  </tbody>\n",
       "</table>\n",
       "</div>"
      ],
      "text/plain": [
       "Malta         Defective  Error Free\n",
       "Phillippines                       \n",
       "Defective             4          25\n",
       "Error Free           27         244"
      ]
     },
     "execution_count": 21,
     "metadata": {},
     "output_type": "execute_result"
    }
   ],
   "source": [
    "count"
   ]
  },
  {
   "cell_type": "code",
   "execution_count": 23,
   "id": "f0600816",
   "metadata": {
    "ExecuteTime": {
     "end_time": "2022-12-06T13:06:17.238470Z",
     "start_time": "2022-12-06T13:06:17.229479Z"
    }
   },
   "outputs": [
    {
     "name": "stdout",
     "output_type": "stream",
     "text": [
      "[[271, 267, 280, 269], [29, 33, 20, 31]]\n"
     ]
    }
   ],
   "source": [
    "contingency_table=[[271,267,280,269],[29,33,20,31]]\n",
    "contingency_table"
   ]
  },
  {
   "cell_type": "code",
   "execution_count": 25,
   "id": "6e9de10d",
   "metadata": {
    "ExecuteTime": {
     "end_time": "2022-12-06T13:20:52.560803Z",
     "start_time": "2022-12-06T13:20:52.544795Z"
    }
   },
   "outputs": [],
   "source": [
    "stat,p,df,exp=stats.chi2_contingency(contingency_table)"
   ]
  },
  {
   "cell_type": "code",
   "execution_count": 26,
   "id": "73d07d9a",
   "metadata": {
    "ExecuteTime": {
     "end_time": "2022-12-06T13:24:08.033462Z",
     "start_time": "2022-12-06T13:24:08.026467Z"
    }
   },
   "outputs": [
    {
     "name": "stdout",
     "output_type": "stream",
     "text": [
      "Statistics=  3.858960685820355 p_value= 0.2771020991233135 degree of freedom= 3 expected value= (3.858960685820355, 0.2771020991233135, 3, array([[271.75, 271.75, 271.75, 271.75],\n",
      "       [ 28.25,  28.25,  28.25,  28.25]]))\n"
     ]
    }
   ],
   "source": [
    "print('Statistics= ',stat,'p_value=',p,'degree of freedom=',df,'expected value=',exp)"
   ]
  },
  {
   "cell_type": "code",
   "execution_count": 27,
   "id": "d6bfa617",
   "metadata": {
    "ExecuteTime": {
     "end_time": "2022-12-06T13:27:05.464387Z",
     "start_time": "2022-12-06T13:27:05.444420Z"
    }
   },
   "outputs": [],
   "source": [
    "observed=np.array([271,267,280,269,29,33,20,31])\n",
    "expected=np.array([271.75,271.75,271.75,271.75,28.25,28.25,28.25,28.25])\n"
   ]
  },
  {
   "cell_type": "code",
   "execution_count": 32,
   "id": "9d8fe52b",
   "metadata": {
    "ExecuteTime": {
     "end_time": "2022-12-06T13:30:15.319824Z",
     "start_time": "2022-12-06T13:30:15.304668Z"
    }
   },
   "outputs": [
    {
     "name": "stdout",
     "output_type": "stream",
     "text": [
      "test statistics= 3.858960685820355 p_value= 0.4254298144535761\n"
     ]
    }
   ],
   "source": [
    "test_statistics,p_value=stats.chisquare(observed,expected,ddof=df)\n",
    "print('test statistics=',test_statistics,'p_value=',p_value)"
   ]
  },
  {
   "cell_type": "code",
   "execution_count": null,
   "id": "4f4505b4",
   "metadata": {},
   "outputs": [],
   "source": []
  }
 ],
 "metadata": {
  "kernelspec": {
   "display_name": "Python 3 (ipykernel)",
   "language": "python",
   "name": "python3"
  },
  "language_info": {
   "codemirror_mode": {
    "name": "ipython",
    "version": 3
   },
   "file_extension": ".py",
   "mimetype": "text/x-python",
   "name": "python",
   "nbconvert_exporter": "python",
   "pygments_lexer": "ipython3",
   "version": "3.9.13"
  }
 },
 "nbformat": 4,
 "nbformat_minor": 5
}
