{
 "cells": [
  {
   "cell_type": "code",
   "execution_count": 1,
   "id": "2d400bb7",
   "metadata": {
    "ExecuteTime": {
     "end_time": "2022-12-06T13:38:38.736571Z",
     "start_time": "2022-12-06T13:38:34.821386Z"
    }
   },
   "outputs": [],
   "source": [
    "import scipy.stats as stats\n",
    "import pandas as pd\n",
    "import numpy as np\n",
    "import statsmodels.api as sm\n",
    "import matplotlib.pyplot as plt\n",
    "import seaborn as sns"
   ]
  },
  {
   "cell_type": "code",
   "execution_count": 5,
   "id": "7cdd402d",
   "metadata": {
    "ExecuteTime": {
     "end_time": "2022-12-06T13:55:03.441001Z",
     "start_time": "2022-12-06T13:55:03.408019Z"
    }
   },
   "outputs": [
    {
     "data": {
      "text/html": [
       "<div>\n",
       "<style scoped>\n",
       "    .dataframe tbody tr th:only-of-type {\n",
       "        vertical-align: middle;\n",
       "    }\n",
       "\n",
       "    .dataframe tbody tr th {\n",
       "        vertical-align: top;\n",
       "    }\n",
       "\n",
       "    .dataframe thead th {\n",
       "        text-align: right;\n",
       "    }\n",
       "</style>\n",
       "<table border=\"1\" class=\"dataframe\">\n",
       "  <thead>\n",
       "    <tr style=\"text-align: right;\">\n",
       "      <th></th>\n",
       "      <th>East</th>\n",
       "      <th>West</th>\n",
       "      <th>North</th>\n",
       "      <th>South</th>\n",
       "    </tr>\n",
       "    <tr>\n",
       "      <th>Observed Values</th>\n",
       "      <th></th>\n",
       "      <th></th>\n",
       "      <th></th>\n",
       "      <th></th>\n",
       "    </tr>\n",
       "  </thead>\n",
       "  <tbody>\n",
       "    <tr>\n",
       "      <th>Males</th>\n",
       "      <td>50</td>\n",
       "      <td>142</td>\n",
       "      <td>131</td>\n",
       "      <td>70</td>\n",
       "    </tr>\n",
       "    <tr>\n",
       "      <th>Females</th>\n",
       "      <td>435</td>\n",
       "      <td>1523</td>\n",
       "      <td>1356</td>\n",
       "      <td>750</td>\n",
       "    </tr>\n",
       "  </tbody>\n",
       "</table>\n",
       "</div>"
      ],
      "text/plain": [
       "                 East  West  North  South\n",
       "Observed Values                          \n",
       "Males              50   142    131     70\n",
       "Females           435  1523   1356    750"
      ]
     },
     "execution_count": 5,
     "metadata": {},
     "output_type": "execute_result"
    }
   ],
   "source": [
    "buyer=pd.read_csv(\"BuyerRatio.csv\",index_col=0)\n",
    "buyer"
   ]
  },
  {
   "cell_type": "code",
   "execution_count": 6,
   "id": "4f6f491b",
   "metadata": {
    "ExecuteTime": {
     "end_time": "2022-12-06T13:55:30.608167Z",
     "start_time": "2022-12-06T13:55:30.584183Z"
    }
   },
   "outputs": [
    {
     "data": {
      "text/html": [
       "<div>\n",
       "<style scoped>\n",
       "    .dataframe tbody tr th:only-of-type {\n",
       "        vertical-align: middle;\n",
       "    }\n",
       "\n",
       "    .dataframe tbody tr th {\n",
       "        vertical-align: top;\n",
       "    }\n",
       "\n",
       "    .dataframe thead th {\n",
       "        text-align: right;\n",
       "    }\n",
       "</style>\n",
       "<table border=\"1\" class=\"dataframe\">\n",
       "  <thead>\n",
       "    <tr style=\"text-align: right;\">\n",
       "      <th></th>\n",
       "      <th>East</th>\n",
       "      <th>West</th>\n",
       "      <th>North</th>\n",
       "      <th>South</th>\n",
       "    </tr>\n",
       "    <tr>\n",
       "      <th>Observed Values</th>\n",
       "      <th></th>\n",
       "      <th></th>\n",
       "      <th></th>\n",
       "      <th></th>\n",
       "    </tr>\n",
       "  </thead>\n",
       "  <tbody>\n",
       "    <tr>\n",
       "      <th>Males</th>\n",
       "      <td>50</td>\n",
       "      <td>142</td>\n",
       "      <td>131</td>\n",
       "      <td>70</td>\n",
       "    </tr>\n",
       "    <tr>\n",
       "      <th>Females</th>\n",
       "      <td>435</td>\n",
       "      <td>1523</td>\n",
       "      <td>1356</td>\n",
       "      <td>750</td>\n",
       "    </tr>\n",
       "  </tbody>\n",
       "</table>\n",
       "</div>"
      ],
      "text/plain": [
       "                 East  West  North  South\n",
       "Observed Values                          \n",
       "Males              50   142    131     70\n",
       "Females           435  1523   1356    750"
      ]
     },
     "execution_count": 6,
     "metadata": {},
     "output_type": "execute_result"
    }
   ],
   "source": [
    "buyer.head()"
   ]
  },
  {
   "cell_type": "code",
   "execution_count": 11,
   "id": "f0dcd53d",
   "metadata": {
    "ExecuteTime": {
     "end_time": "2022-12-06T14:00:00.535058Z",
     "start_time": "2022-12-06T14:00:00.520068Z"
    }
   },
   "outputs": [],
   "source": [
    "table=[[50,142,131,70],[435,1523,1356,750]]"
   ]
  },
  {
   "cell_type": "code",
   "execution_count": 12,
   "id": "dfb3ede7",
   "metadata": {
    "ExecuteTime": {
     "end_time": "2022-12-06T14:00:05.680418Z",
     "start_time": "2022-12-06T14:00:05.667428Z"
    }
   },
   "outputs": [
    {
     "data": {
      "text/plain": [
       "[[50, 142, 131, 70], [435, 1523, 1356, 750]]"
      ]
     },
     "execution_count": 12,
     "metadata": {},
     "output_type": "execute_result"
    }
   ],
   "source": [
    "table"
   ]
  },
  {
   "cell_type": "code",
   "execution_count": null,
   "id": "795c8c06",
   "metadata": {},
   "outputs": [],
   "source": []
  },
  {
   "cell_type": "raw",
   "id": "cdf907d3",
   "metadata": {},
   "source": []
  },
  {
   "cell_type": "code",
   "execution_count": 7,
   "id": "ee778dc3",
   "metadata": {
    "ExecuteTime": {
     "end_time": "2022-12-06T13:57:22.397425Z",
     "start_time": "2022-12-06T13:57:22.388411Z"
    }
   },
   "outputs": [],
   "source": [
    "stat,p,dof,exp=stats.chi2_contingency(buyer)"
   ]
  },
  {
   "cell_type": "code",
   "execution_count": 10,
   "id": "c8093ccf",
   "metadata": {
    "ExecuteTime": {
     "end_time": "2022-12-06T13:58:19.112624Z",
     "start_time": "2022-12-06T13:58:19.100628Z"
    }
   },
   "outputs": [
    {
     "name": "stdout",
     "output_type": "stream",
     "text": [
      "1.595945538661058 0.6603094907091882 3 [[  42.76531299  146.81287862  131.11756787   72.30424052]\n",
      " [ 442.23468701 1518.18712138 1355.88243213  747.69575948]]\n"
     ]
    }
   ],
   "source": [
    "print(stat,p,dof,exp)"
   ]
  },
  {
   "cell_type": "code",
   "execution_count": 13,
   "id": "d964871d",
   "metadata": {
    "ExecuteTime": {
     "end_time": "2022-12-06T14:00:48.473204Z",
     "start_time": "2022-12-06T14:00:48.447198Z"
    }
   },
   "outputs": [
    {
     "data": {
      "text/plain": [
       "(1.595945538661058,\n",
       " 0.6603094907091882,\n",
       " 3,\n",
       " array([[  42.76531299,  146.81287862,  131.11756787,   72.30424052],\n",
       "        [ 442.23468701, 1518.18712138, 1355.88243213,  747.69575948]]))"
      ]
     },
     "execution_count": 13,
     "metadata": {},
     "output_type": "execute_result"
    }
   ],
   "source": [
    "stats.chi2_contingency(table)"
   ]
  },
  {
   "cell_type": "code",
   "execution_count": 15,
   "id": "970af75e",
   "metadata": {
    "ExecuteTime": {
     "end_time": "2022-12-06T14:16:16.594654Z",
     "start_time": "2022-12-06T14:16:16.578460Z"
    }
   },
   "outputs": [],
   "source": [
    "observed=np.array([50,142,131,70,435,1523,1356,750])\n",
    "expected=np.array([42.7653,146.8128,131.1175,72.3042,442.2346,1518.1871,1355.8824,747.695])"
   ]
  },
  {
   "cell_type": "code",
   "execution_count": 26,
   "id": "87ebeba7",
   "metadata": {
    "ExecuteTime": {
     "end_time": "2022-12-06T14:20:25.641434Z",
     "start_time": "2022-12-06T14:20:25.614454Z"
    }
   },
   "outputs": [
    {
     "ename": "ValueError",
     "evalue": "For each axis slice, the sum of the observed frequencies must agree with the sum of the expected frequencies to a relative tolerance of 1e-08, but the percent differences are:\n2.468028431431739e-07",
     "output_type": "error",
     "traceback": [
      "\u001b[1;31m---------------------------------------------------------------------------\u001b[0m",
      "\u001b[1;31mValueError\u001b[0m                                Traceback (most recent call last)",
      "\u001b[1;32m~\\AppData\\Local\\Temp\\ipykernel_6920\\1794731652.py\u001b[0m in \u001b[0;36m<module>\u001b[1;34m\u001b[0m\n\u001b[1;32m----> 1\u001b[1;33m \u001b[0mstatistics\u001b[0m\u001b[1;33m,\u001b[0m\u001b[0mp_value\u001b[0m\u001b[1;33m=\u001b[0m\u001b[0mstats\u001b[0m\u001b[1;33m.\u001b[0m\u001b[0mchisquare\u001b[0m\u001b[1;33m(\u001b[0m\u001b[0mobserved\u001b[0m\u001b[1;33m,\u001b[0m\u001b[0mexpected\u001b[0m\u001b[1;33m,\u001b[0m\u001b[0mddof\u001b[0m\u001b[1;33m=\u001b[0m\u001b[1;34m'3'\u001b[0m\u001b[1;33m)\u001b[0m\u001b[1;33m\u001b[0m\u001b[1;33m\u001b[0m\u001b[0m\n\u001b[0m\u001b[0;32m      2\u001b[0m \u001b[0mprint\u001b[0m\u001b[1;33m(\u001b[0m\u001b[1;34m'Statistics='\u001b[0m\u001b[1;33m,\u001b[0m\u001b[0mstatistics\u001b[0m\u001b[1;33m,\u001b[0m\u001b[1;34m'P_value='\u001b[0m\u001b[1;33m,\u001b[0m\u001b[0mp_value\u001b[0m\u001b[1;33m)\u001b[0m\u001b[1;33m\u001b[0m\u001b[1;33m\u001b[0m\u001b[0m\n",
      "\u001b[1;32mD:\\Users\\DELL\\anaconda3\\lib\\site-packages\\scipy\\stats\\_stats_py.py\u001b[0m in \u001b[0;36mchisquare\u001b[1;34m(f_obs, f_exp, ddof, axis)\u001b[0m\n\u001b[0;32m   7303\u001b[0m \u001b[1;33m\u001b[0m\u001b[0m\n\u001b[0;32m   7304\u001b[0m     \"\"\"\n\u001b[1;32m-> 7305\u001b[1;33m     return power_divergence(f_obs, f_exp=f_exp, ddof=ddof, axis=axis,\n\u001b[0m\u001b[0;32m   7306\u001b[0m                             lambda_=\"pearson\")\n\u001b[0;32m   7307\u001b[0m \u001b[1;33m\u001b[0m\u001b[0m\n",
      "\u001b[1;32mD:\\Users\\DELL\\anaconda3\\lib\\site-packages\\scipy\\stats\\_stats_py.py\u001b[0m in \u001b[0;36mpower_divergence\u001b[1;34m(f_obs, f_exp, ddof, axis, lambda_)\u001b[0m\n\u001b[0;32m   7145\u001b[0m                    \u001b[1;34mf\"of {rtol}, but the percent differences are:\\n\"\u001b[0m\u001b[1;33m\u001b[0m\u001b[1;33m\u001b[0m\u001b[0m\n\u001b[0;32m   7146\u001b[0m                    f\"{relative_diff}\")\n\u001b[1;32m-> 7147\u001b[1;33m             \u001b[1;32mraise\u001b[0m \u001b[0mValueError\u001b[0m\u001b[1;33m(\u001b[0m\u001b[0mmsg\u001b[0m\u001b[1;33m)\u001b[0m\u001b[1;33m\u001b[0m\u001b[1;33m\u001b[0m\u001b[0m\n\u001b[0m\u001b[0;32m   7148\u001b[0m \u001b[1;33m\u001b[0m\u001b[0m\n\u001b[0;32m   7149\u001b[0m     \u001b[1;32melse\u001b[0m\u001b[1;33m:\u001b[0m\u001b[1;33m\u001b[0m\u001b[1;33m\u001b[0m\u001b[0m\n",
      "\u001b[1;31mValueError\u001b[0m: For each axis slice, the sum of the observed frequencies must agree with the sum of the expected frequencies to a relative tolerance of 1e-08, but the percent differences are:\n2.468028431431739e-07"
     ]
    }
   ],
   "source": [
    "statistics,p_value=stats.chisquare(observed,expected,ddof='3')\n",
    "print('Statistics=',statistics,'P_value=',p_value)"
   ]
  },
  {
   "cell_type": "code",
   "execution_count": null,
   "id": "6b373e98",
   "metadata": {},
   "outputs": [],
   "source": []
  }
 ],
 "metadata": {
  "kernelspec": {
   "display_name": "Python 3 (ipykernel)",
   "language": "python",
   "name": "python3"
  },
  "language_info": {
   "codemirror_mode": {
    "name": "ipython",
    "version": 3
   },
   "file_extension": ".py",
   "mimetype": "text/x-python",
   "name": "python",
   "nbconvert_exporter": "python",
   "pygments_lexer": "ipython3",
   "version": "3.9.13"
  }
 },
 "nbformat": 4,
 "nbformat_minor": 5
}
